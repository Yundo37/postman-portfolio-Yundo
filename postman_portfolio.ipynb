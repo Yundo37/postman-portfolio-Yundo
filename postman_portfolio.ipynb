{
  "nbformat": 4,
  "nbformat_minor": 0,
  "metadata": {
    "colab": {
      "provenance": [],
      "authorship_tag": "ABX9TyMyCnkKxCX97sCZwKLTFDiT",
      "include_colab_link": true
    },
    "kernelspec": {
      "name": "python3",
      "display_name": "Python 3"
    },
    "language_info": {
      "name": "python"
    }
  },
  "cells": [
    {
      "cell_type": "markdown",
      "metadata": {
        "id": "view-in-github",
        "colab_type": "text"
      },
      "source": [
        "<a href=\"https://colab.research.google.com/github/Yundo37/postman-portfolio-Yundo/blob/main/postman_portfolio.ipynb\" target=\"_parent\"><img src=\"https://colab.research.google.com/assets/colab-badge.svg\" alt=\"Open In Colab\"/></a>"
      ]
    },
    {
      "cell_type": "code",
      "source": [
        "# ==================================================================\n",
        "# 💡Colab 실행 안내\n",
        "#\n",
        "# ⚠️ 처음 실행 시 \"Google에서 작성하지 않음\" 경고가 뜰 수 있습니다.\n",
        "#    '무시하고 계속하기'를 클릭하면 정상적으로 실행됩니다.\n",
        "#\n",
        "# - [▶️모두 실행] 버튼을 누르면 전체 코드가 자동 실행됩니다.\n",
        "# - 설치되는 Newman 및 리포터는 Colab 환경에만 적용되며,\n",
        "#   사용자의 로컬 PC에는 어떠한 영향도 없습니다.\n",
        "# - 실행 완료 후 마지막 셀에서 HTML 리포트(report.html)가\n",
        "#   Colab 화면에 바로 표시됩니다. (별도 파일 열 필요 없음)\n",
        "# ==================================================================="
      ],
      "metadata": {
        "id": "oyZenPEnmNtp"
      },
      "execution_count": null,
      "outputs": []
    },
    {
      "cell_type": "code",
      "execution_count": null,
      "metadata": {
        "id": "KxrHIRym_4Wi"
      },
      "outputs": [],
      "source": [
        "# ==============================================\n",
        "# [1️⃣ 설치] Newman 및 리포터 설치\n",
        "# ----------------------------------------------\n",
        "!npm install -g newman newman-reporter-htmlextra"
      ]
    },
    {
      "cell_type": "code",
      "source": [
        "# ==============================================\n",
        "# [2️⃣ 컬렉션 다운로드] GitHub에서 Postman JSON 불러오기\n",
        "# ----------------------------------------------\n",
        "import os, shutil\n",
        "\n",
        "# 리포트 폴더 초기화\n",
        "shutil.rmtree('/content/newman', ignore_errors=True)\n",
        "os.makedirs('/content/newman', exist_ok=True)\n",
        "\n",
        "# RAW JSON 링크 (깃허브 기준)\n",
        "COLLECTION_URL = \"https://raw.githubusercontent.com/Yundo37/postman-portfolio-Yundo/main/Tool%20Rental%20API.postman_collection.json\"\n",
        "\n",
        "# JSON 다운로드\n",
        "!wget \"{COLLECTION_URL}\" -O /content/ToolRental_API.json\n",
        "\n",
        "# 파일 존재 여부 확인\n",
        "!ls -la /content/ToolRental_API.json"
      ],
      "metadata": {
        "id": "jsmJBnrKELR6"
      },
      "execution_count": null,
      "outputs": []
    },
    {
      "cell_type": "code",
      "source": [
        "# ==============================================\n",
        "# [3️⃣ 컬렉션 실행] Newman CLI로 API 테스트 수행\n",
        "# ----------------------------------------------\n",
        "import subprocess\n",
        "\n",
        "print(\"========== [Newman 실행 로그 출력] ==========\")\n",
        "\n",
        "REPORT_PATH = \"/content/newman/report.html\"\n",
        "\n",
        "# 실시간 로그 출력\n",
        "with subprocess.Popen(\n",
        "    [\"bash\",\"-lc\", f'newman run /content/ToolRental_API.json -r cli,htmlextra --reporter-htmlextra-export \"{REPORT_PATH}\"'],\n",
        "    stdout=subprocess.PIPE,\n",
        "    stderr=subprocess.STDOUT,\n",
        "    text=True,\n",
        "    bufsize=1\n",
        ") as proc:\n",
        "    for line in proc.stdout:\n",
        "        print(line, end=\"\")"
      ],
      "metadata": {
        "id": "Mu8nNkUMEVRo"
      },
      "execution_count": null,
      "outputs": []
    },
    {
      "cell_type": "code",
      "source": [
        "# ==============================================\n",
        "# [4️⃣ 결과 출력] HTML 리포트 Colab에서 시각화\n",
        "# ----------------------------------------------\n",
        "import os\n",
        "from IPython.display import HTML, display\n",
        "\n",
        "REPORT_PATH = \"/content/newman/report.html\"\n",
        "\n",
        "print(\"\\n========== [리포트 상태] ==========\")\n",
        "print(\"exists:\", os.path.exists(REPORT_PATH),\n",
        "      \"size:\", os.path.getsize(REPORT_PATH) if os.path.exists(REPORT_PATH) else 0)\n",
        "\n",
        "if os.path.exists(REPORT_PATH):\n",
        "    with open(REPORT_PATH, 'r', encoding='utf-8', errors='ignore') as f:\n",
        "        html = f.read()\n",
        "\n",
        "    # 리포트 스타일 설정 (좌측 정렬 + 크기 고정)\n",
        "    styled_html = f\"\"\"\n",
        "    <div style=\"\n",
        "        border: 1px solid #ccc;\n",
        "        border-radius: 10px;\n",
        "        padding: 10px;\n",
        "        width: 900px;              /* 가로 폭 */\n",
        "        height: 600px;             /* 세로 높이 */\n",
        "        overflow: auto;            /* 스크롤 표시 */\n",
        "        background-color: white;\n",
        "        box-shadow: 0 2px 6px rgba(0,0,0,0.1);\n",
        "        text-align: left;          /* 내부 좌측 정렬 */\n",
        "        margin-left: 0;            /* Colab 셀 좌측 기준 */\n",
        "    \">\n",
        "        {html}\n",
        "    </div>\n",
        "    \"\"\"\n",
        "    display(HTML(styled_html))\n",
        "else:\n",
        "    print(\"❌ 리포트 파일을 찾을 수 없습니다.\")"
      ],
      "metadata": {
        "id": "_g-40WwREZ_a"
      },
      "execution_count": null,
      "outputs": []
    }
  ]
}
